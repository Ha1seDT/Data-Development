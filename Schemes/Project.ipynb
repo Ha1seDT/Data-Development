{
 "cells": [
  {
   "cell_type": "code",
   "execution_count": 12,
   "id": "0888b06a-81fc-4381-8fc1-e97b140f357f",
   "metadata": {},
   "outputs": [],
   "source": [
    "import psycopg2\n",
    "from psycopg2 import sql\n",
    "\n",
    "# Функция для подключения к базе данных\n",
    "def connect_to_db():\n",
    "    try:\n",
    "        conn = psycopg2.connect(\n",
    "            dbname=\"Airport_DB\",  # Название  базы данных\n",
    "            user=\"postgres\",  # имя пользователя\n",
    "            password=\"1234509876\",  # пароль\n",
    "            host=\"localhost\",  # Хост\n",
    "            port=\"5432\"  # Порт\n",
    "        )\n",
    "        return conn\n",
    "    except Exception as e:\n",
    "        print(f\"Ошибка подключения к базе данных: {e}\")\n",
    "        return None\n"
   ]
  },
  {
   "cell_type": "code",
   "execution_count": 13,
   "id": "0ae45bd3-5eb0-4e85-b21f-f111a3504f10",
   "metadata": {},
   "outputs": [],
   "source": [
    "\n",
    "# Функция для просмотра доступных рейсов\n",
    "def show_available_flights(conn):\n",
    "    try:\n",
    "        cur = conn.cursor()\n",
    "        query = sql.SQL(\"\"\"\n",
    "            SELECT * FROM Flights WHERE status = 'Scheduled'\n",
    "        \"\"\")\n",
    "        cur.execute(query)\n",
    "        flights = cur.fetchall()\n",
    "        if flights:\n",
    "            print(\"\\nДоступные рейсы:\")\n",
    "            for flight in flights:\n",
    "                print(f\"ID: {flight[0]}, Номер рейса: {flight[1]}, Вылет: {flight[2]}, Прилет: {flight[3]}, Самолет: {flight[4]}, Гейт: {flight[5]}\")\n",
    "        else:\n",
    "            print(\"Нет доступных рейсов.\")\n",
    "    except Exception as e:\n",
    "        print(f\"Ошибка при получении рейсов: {e}\")\n"
   ]
  },
  {
   "cell_type": "code",
   "execution_count": 14,
   "id": "8d3ba15a-0d22-46ee-956d-1d12e41ec633",
   "metadata": {},
   "outputs": [],
   "source": [
    "\n",
    "# Функция для регистрации пассажира\n",
    "def register_passenger(conn, first_name, last_name, passport_number):\n",
    "    try:\n",
    "        cur = conn.cursor()\n",
    "        query = sql.SQL(\"\"\"\n",
    "            INSERT INTO Passengers (first_name, last_name, passport_number)\n",
    "            VALUES (%s, %s, %s)\n",
    "            RETURNING passenger_id\n",
    "        \"\"\")\n",
    "        cur.execute(query, (first_name, last_name, passport_number))\n",
    "        passenger_id = cur.fetchone()[0]\n",
    "        conn.commit()\n",
    "        print(\"Пассажир успешно зарегистрирован!\")\n",
    "        return passenger_id\n",
    "    except Exception as e:\n",
    "        print(f\"Ошибка при регистрации пассажира: {e}\")\n",
    "        return None\n"
   ]
  },
  {
   "cell_type": "code",
   "execution_count": 15,
   "id": "32dda8d8-75ea-4c47-bf81-1c3422626bb4",
   "metadata": {},
   "outputs": [],
   "source": [
    "\n",
    "# Функция для покупки билета\n",
    "def buy_ticket(conn, flight_id, passenger_id, seat_number, ticket_class):\n",
    "    try:\n",
    "        cur = conn.cursor()\n",
    "        query = sql.SQL(\"\"\"\n",
    "            INSERT INTO Tickets (flight_id, passenger_id, seat_number, class)\n",
    "            VALUES (%s, %s, %s, %s)\n",
    "        \"\"\")\n",
    "        cur.execute(query, (flight_id, passenger_id, seat_number, ticket_class))\n",
    "        conn.commit()\n",
    "        print(\"Билет успешно куплен!\")\n",
    "    except Exception as e:\n",
    "        print(f\"Ошибка при покупке билета: {e}\")\n"
   ]
  },
  {
   "cell_type": "code",
   "execution_count": 16,
   "id": "c7007173-63a3-4076-b53c-eca4844c8b31",
   "metadata": {},
   "outputs": [],
   "source": [
    "\n",
    "# Основное меню программы\n",
    "def main_menu(conn):\n",
    "    while True:\n",
    "        print(\"\\nМеню:\")\n",
    "        print(\"1. Показать доступные рейсы\")\n",
    "        print(\"2. Купить билет\")\n",
    "        print(\"3. Выйти\")\n",
    "        choice = input(\"Выберите действие: \")\n",
    "\n",
    "        if choice == \"1\":\n",
    "            show_available_flights(conn)\n",
    "\n",
    "        elif choice == \"2\":\n",
    "            # Покупка билета\n",
    "            flight_id = input(\"Введите ID рейса: \")\n",
    "            first_name = input(\"Введите ваше имя: \")\n",
    "            last_name = input(\"Введите вашу фамилию: \")\n",
    "            passport_number = input(\"Введите номер паспорта: \")\n",
    "            seat_number = input(\"Введите номер места: \")\n",
    "            ticket_class = input(\"Введите класс обслуживания (Economy/Business/First): \")\n",
    "\n",
    "            # Проверяем, зарегистрирован ли пассажир\n",
    "            cur = conn.cursor()\n",
    "            cur.execute(\"SELECT passenger_id FROM Passengers WHERE passport_number = %s\", (passport_number,))\n",
    "            passenger = cur.fetchone()\n",
    "\n",
    "            if passenger:\n",
    "                passenger_id = passenger[0]\n",
    "                print(\"Пассажир уже зарегистрирован.\")\n",
    "            else:\n",
    "                passenger_id = register_passenger(conn, first_name, last_name, passport_number)\n",
    "\n",
    "            if passenger_id:\n",
    "                buy_ticket(conn, flight_id, passenger_id, seat_number, ticket_class)\n",
    "\n",
    "        elif choice == \"3\":\n",
    "            print(\"Выход из программы.\")\n",
    "            break\n",
    "\n",
    "        else:\n",
    "            print(\"Неверный выбор. Попробуйте снова.\")\n"
   ]
  },
  {
   "cell_type": "code",
   "execution_count": 17,
   "id": "f5f2cc98-5956-45e1-8e7f-da2c282ab59b",
   "metadata": {},
   "outputs": [],
   "source": [
    "\n",
    "# Основная функция\n",
    "def main():\n",
    "    conn = connect_to_db()\n",
    "    if conn:\n",
    "        main_menu(conn)\n",
    "        conn.close()\n",
    "    else:\n",
    "        print(\"Не удалось подключиться к базе данных.\")\n"
   ]
  },
  {
   "cell_type": "code",
   "execution_count": 18,
   "id": "1aa88786-7155-4357-8ad3-4d47c4d91ac7",
   "metadata": {},
   "outputs": [
    {
     "name": "stdout",
     "output_type": "stream",
     "text": [
      "\n",
      "Меню:\n",
      "1. Показать доступные рейсы\n",
      "2. Купить билет\n",
      "3. Выйти\n"
     ]
    },
    {
     "name": "stdin",
     "output_type": "stream",
     "text": [
      "Выберите действие:  1\n"
     ]
    },
    {
     "name": "stdout",
     "output_type": "stream",
     "text": [
      "\n",
      "Доступные рейсы:\n",
      "ID: 10, Номер рейса: FL138, Вылет: 2025-07-14 22:35:10.578367, Прилет: 2026-01-04 06:40:46.612882, Самолет: 16, Гейт: 34\n",
      "ID: 16, Номер рейса: FL914, Вылет: 2025-04-27 17:45:48.336733, Прилет: 2025-11-24 15:51:59.764856, Самолет: 44, Гейт: 19\n",
      "ID: 22, Номер рейса: FL239, Вылет: 2025-08-11 04:50:43.857090, Прилет: 2025-08-24 11:44:31.537054, Самолет: 20, Гейт: 46\n",
      "ID: 29, Номер рейса: FL378, Вылет: 2025-07-26 20:54:37.786629, Прилет: 2025-04-18 23:35:33.497912, Самолет: 2, Гейт: 35\n",
      "ID: 30, Номер рейса: FL631, Вылет: 2025-09-25 21:37:30.042262, Прилет: 2025-03-11 05:13:14.127498, Самолет: 15, Гейт: 40\n",
      "ID: 33, Номер рейса: FL783, Вылет: 2025-02-27 15:41:26.723275, Прилет: 2025-10-21 06:24:01.439674, Самолет: 5, Гейт: 42\n",
      "ID: 38, Номер рейса: FL120, Вылет: 2025-02-20 00:59:40.195223, Прилет: 2025-07-04 20:19:45.448080, Самолет: 37, Гейт: 37\n",
      "ID: 40, Номер рейса: FL876, Вылет: 2025-06-21 00:35:35.330589, Прилет: 2025-04-23 17:50:38.684296, Самолет: 18, Гейт: 20\n",
      "ID: 41, Номер рейса: FL52, Вылет: 2025-11-08 10:40:02.490122, Прилет: 2025-10-20 04:27:24.056762, Самолет: 7, Гейт: 8\n",
      "ID: 42, Номер рейса: FL165, Вылет: 2025-04-02 21:05:04.557736, Прилет: 2025-06-20 16:13:16.666278, Самолет: 45, Гейт: 7\n",
      "ID: 50, Номер рейса: FL710, Вылет: 2025-05-05 03:34:53.771768, Прилет: 2026-02-02 13:10:41.531327, Самолет: 17, Гейт: 37\n",
      "ID: 51, Номер рейса: FL667, Вылет: 2025-05-17 08:48:21.037897, Прилет: 2025-09-24 06:49:22.694071, Самолет: 14, Гейт: 26\n",
      "ID: 52, Номер рейса: FL749, Вылет: 2025-03-04 19:12:04.708359, Прилет: 2025-09-06 14:25:53.242355, Самолет: 35, Гейт: 34\n",
      "ID: 53, Номер рейса: FL545, Вылет: 2025-08-18 21:20:45.838491, Прилет: 2025-08-18 06:42:47.428099, Самолет: 18, Гейт: 23\n",
      "ID: 54, Номер рейса: FL983, Вылет: 2026-01-04 18:58:25.583778, Прилет: 2025-06-26 06:54:41.887775, Самолет: 5, Гейт: 18\n",
      "ID: 58, Номер рейса: FL376, Вылет: 2025-12-21 01:21:39.957428, Прилет: 2025-05-14 12:55:48.239978, Самолет: 23, Гейт: 27\n",
      "ID: 61, Номер рейса: FL240, Вылет: 2025-07-13 13:58:57.085798, Прилет: 2025-12-02 13:38:23.802631, Самолет: 19, Гейт: 15\n",
      "ID: 70, Номер рейса: FL850, Вылет: 2025-10-30 06:11:18.341421, Прилет: 2025-03-06 03:12:41.946509, Самолет: 39, Гейт: 34\n",
      "ID: 72, Номер рейса: FL39, Вылет: 2025-10-28 23:13:25.276429, Прилет: 2025-09-22 14:08:07.243568, Самолет: 47, Гейт: 25\n",
      "ID: 77, Номер рейса: FL718, Вылет: 2026-01-15 01:14:58.873594, Прилет: 2025-02-17 04:53:23.883697, Самолет: 7, Гейт: 48\n",
      "ID: 79, Номер рейса: FL267, Вылет: 2025-12-21 23:00:18.214360, Прилет: 2025-11-14 08:12:07.548690, Самолет: 12, Гейт: 49\n",
      "ID: 80, Номер рейса: FL793, Вылет: 2025-12-26 04:00:33.070487, Прилет: 2025-08-21 22:01:02.021283, Самолет: 30, Гейт: 30\n",
      "ID: 92, Номер рейса: FL475, Вылет: 2025-10-10 15:05:30.935852, Прилет: 2025-08-20 17:23:30.049606, Самолет: 1, Гейт: 37\n",
      "ID: 98, Номер рейса: FL828, Вылет: 2025-10-22 07:48:55.450074, Прилет: 2025-03-11 01:03:33.189605, Самолет: 48, Гейт: 41\n",
      "ID: 99, Номер рейса: FL532, Вылет: 2025-02-28 00:50:50.907786, Прилет: 2025-07-21 01:13:12.227263, Самолет: 50, Гейт: 21\n",
      "ID: 100, Номер рейса: FL552, Вылет: 2025-10-07 15:10:16.696541, Прилет: 2025-04-30 03:54:17.757495, Самолет: 10, Гейт: 1\n",
      "\n",
      "Меню:\n",
      "1. Показать доступные рейсы\n",
      "2. Купить билет\n",
      "3. Выйти\n"
     ]
    },
    {
     "name": "stdin",
     "output_type": "stream",
     "text": [
      "Выберите действие:  2\n",
      "Введите ID рейса:  10\n",
      "Введите ваше имя:  Амантур\n",
      "Введите вашу фамилию:  Самаганов\n",
      "Введите номер паспорта:  123456789012345\n",
      "Введите номер места:  US\n",
      "Введите класс обслуживания (Economy/Business/First):  Economy\n"
     ]
    },
    {
     "name": "stdout",
     "output_type": "stream",
     "text": [
      "Пассажир успешно зарегистрирован!\n",
      "\n",
      "Меню:\n",
      "1. Показать доступные рейсы\n",
      "2. Купить билет\n",
      "3. Выйти\n"
     ]
    },
    {
     "name": "stdin",
     "output_type": "stream",
     "text": [
      "Выберите действие:  3\n"
     ]
    },
    {
     "name": "stdout",
     "output_type": "stream",
     "text": [
      "Выход из программы.\n"
     ]
    }
   ],
   "source": [
    "\n",
    "# Запуск программы\n",
    "if __name__ == \"__main__\":\n",
    "    main()"
   ]
  }
 ],
 "metadata": {
  "kernelspec": {
   "display_name": "Python 3 (ipykernel)",
   "language": "python",
   "name": "python3"
  },
  "language_info": {
   "codemirror_mode": {
    "name": "ipython",
    "version": 3
   },
   "file_extension": ".py",
   "mimetype": "text/x-python",
   "name": "python",
   "nbconvert_exporter": "python",
   "pygments_lexer": "ipython3",
   "version": "3.10.0"
  }
 },
 "nbformat": 4,
 "nbformat_minor": 5
}
