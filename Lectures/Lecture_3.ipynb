{
  "nbformat": 4,
  "nbformat_minor": 0,
  "metadata": {
    "colab": {
      "provenance": [],
      "collapsed_sections": [
        "FgQ2uviZZX6j",
        "V-03U9uAaS58"
      ],
      "toc_visible": true
    },
    "kernelspec": {
      "name": "python3",
      "display_name": "Python 3"
    },
    "language_info": {
      "name": "python"
    }
  },
  "cells": [
    {
      "cell_type": "markdown",
      "source": [
        "###Агрегатные функции"
      ],
      "metadata": {
        "id": "FgQ2uviZZX6j"
      }
    },
    {
      "cell_type": "markdown",
      "source": [
        "Агрегатные функции используются для выполнения вычислений над набором строк и возвращения одного значения. Основные агрегатные функции в SQL:\n",
        "\n",
        "COUNT() — возвращает количество строк, удовлетворяющих условию."
      ],
      "metadata": {
        "id": "cFvLj7vrZf2T"
      }
    },
    {
      "cell_type": "code",
      "execution_count": null,
      "metadata": {
        "id": "tfZSdTbXZWyY"
      },
      "outputs": [],
      "source": [
        "SELECT COUNT(*) FROM employees; -- Общее количество строк в таблице employees\n",
        "SELECT COUNT(department_id) FROM employees; -- Количество строк с непустым department_id"
      ]
    },
    {
      "cell_type": "markdown",
      "source": [
        "SUM() — возвращает сумму значений в столбце."
      ],
      "metadata": {
        "id": "uWAJBXe-ZlAh"
      }
    },
    {
      "cell_type": "code",
      "source": [
        "SELECT SUM(salary) FROM employees; -- Сумма всех зарплат"
      ],
      "metadata": {
        "id": "fDtJDuSlZnsf"
      },
      "execution_count": null,
      "outputs": []
    },
    {
      "cell_type": "markdown",
      "source": [
        "AVG() — возвращает среднее значение в столбце."
      ],
      "metadata": {
        "id": "x_waQQcAZnFG"
      }
    },
    {
      "cell_type": "code",
      "source": [
        "SELECT AVG(salary) FROM employees; -- Средняя зарплата"
      ],
      "metadata": {
        "id": "2uRY7paCZr6_"
      },
      "execution_count": null,
      "outputs": []
    },
    {
      "cell_type": "markdown",
      "source": [
        "MIN() — возвращает минимальное значение в столбце."
      ],
      "metadata": {
        "id": "vcsJhgIsZrP_"
      }
    },
    {
      "cell_type": "code",
      "source": [
        "SELECT MIN(salary) FROM employees; -- Минимальная зарплата"
      ],
      "metadata": {
        "id": "T4fx4BtvZvqF"
      },
      "execution_count": null,
      "outputs": []
    },
    {
      "cell_type": "markdown",
      "source": [
        "MAX() — возвращает максимальное значение в столбце."
      ],
      "metadata": {
        "id": "I64yxckEZxaQ"
      }
    },
    {
      "cell_type": "code",
      "source": [
        "SELECT MAX(salary) FROM employees; -- Максимальная зарплата"
      ],
      "metadata": {
        "id": "q1y_UU-3Zx3B"
      },
      "execution_count": null,
      "outputs": []
    },
    {
      "cell_type": "markdown",
      "source": [
        "GROUP BY — группирует строки по указанному столбцу для применения агрегатных функций."
      ],
      "metadata": {
        "id": "SDZD9YVqZ1po"
      }
    },
    {
      "cell_type": "code",
      "source": [
        "SELECT department_id, AVG(salary)\n",
        "FROM employees\n",
        "GROUP BY department_id; -- Средняя зарплата по отделам"
      ],
      "metadata": {
        "id": "jpbuuI2KZ1_R"
      },
      "execution_count": null,
      "outputs": []
    },
    {
      "cell_type": "markdown",
      "source": [
        "HAVING — фильтрует результаты группировки (используется с GROUP BY)."
      ],
      "metadata": {
        "id": "uqVizMI2Z5hQ"
      }
    },
    {
      "cell_type": "code",
      "source": [
        "SELECT department_id, AVG(salary)\n",
        "FROM employees\n",
        "GROUP BY department_id\n",
        "HAVING AVG(salary) > 5000; -- Отделы, где средняя зарплата больше 5000"
      ],
      "metadata": {
        "id": "ZzVvd20JZ8J3"
      },
      "execution_count": null,
      "outputs": []
    },
    {
      "cell_type": "markdown",
      "source": [
        "#  Вложенные запросы"
      ],
      "metadata": {
        "id": "V-03U9uAaS58"
      }
    },
    {
      "cell_type": "markdown",
      "source": [
        "Вложенные запросы (подзапросы) — это запросы внутри других запросов. Они могут использоваться в SELECT, FROM, WHERE, HAVING и других частях SQL-запроса."
      ],
      "metadata": {
        "id": "OLQ9-rBnaWq6"
      }
    },
    {
      "cell_type": "markdown",
      "source": [
        "Пример в WHERE:"
      ],
      "metadata": {
        "id": "ROcizgBRadY6"
      }
    },
    {
      "cell_type": "code",
      "source": [
        "SELECT first_name, last_name\n",
        "FROM employees\n",
        "WHERE salary > (SELECT AVG(salary) FROM employees); -- Сотрудники с зарплатой выше средней"
      ],
      "metadata": {
        "id": "sLLU4FnyaVkD"
      },
      "execution_count": null,
      "outputs": []
    },
    {
      "cell_type": "markdown",
      "source": [
        "Пример в SELECT:"
      ],
      "metadata": {
        "id": "uOks8k8LaZuE"
      }
    },
    {
      "cell_type": "code",
      "source": [
        "SELECT first_name, last_name,\n",
        "       (SELECT department_name FROM departments WHERE departments.department_id = employees.department_id) AS department_name\n",
        "FROM employees; -- Добавляем название отдела к каждому сотруднику"
      ],
      "metadata": {
        "id": "O4Me3kIiafyH"
      },
      "execution_count": null,
      "outputs": []
    },
    {
      "cell_type": "markdown",
      "source": [
        "Пример в FROM:"
      ],
      "metadata": {
        "id": "oy-2zWnZag9q"
      }
    },
    {
      "cell_type": "code",
      "source": [
        "SELECT avg_salary\n",
        "FROM (SELECT AVG(salary) AS avg_salary FROM employees GROUP BY department_id) AS dept_avg; -- Использование подзапроса как таблицы"
      ],
      "metadata": {
        "id": "158U0sWcaijo"
      },
      "execution_count": null,
      "outputs": []
    },
    {
      "cell_type": "markdown",
      "source": [
        "Пример с EXISTS:"
      ],
      "metadata": {
        "id": "6vjfNdXeaj5V"
      }
    },
    {
      "cell_type": "code",
      "source": [
        "SELECT first_name, last_name\n",
        "FROM employees\n",
        "WHERE EXISTS (SELECT 1 FROM departments WHERE departments.department_id = employees.department_id); -- Сотрудники, у которых есть отдел"
      ],
      "metadata": {
        "id": "NHV6Vlj2aluA"
      },
      "execution_count": null,
      "outputs": []
    },
    {
      "cell_type": "markdown",
      "source": [
        "# Соединения (JOIN)"
      ],
      "metadata": {
        "id": "Q7hbqG4napLB"
      }
    },
    {
      "cell_type": "markdown",
      "source": [
        "Соединения используются для объединения данных из двух или более таблиц на основе связей между ними.\n",
        "\n",
        "INNER JOIN — возвращает строки, где есть совпадения в обеих таблицах."
      ],
      "metadata": {
        "id": "yLGzFLoPask_"
      }
    },
    {
      "cell_type": "code",
      "source": [
        "SELECT employees.first_name, employees.last_name, departments.department_name\n",
        "FROM employees\n",
        "INNER JOIN departments ON employees.department_id = departments.department_id; -- Сотрудники с названиями их отделов"
      ],
      "metadata": {
        "id": "gYnTSQT2ausf"
      },
      "execution_count": null,
      "outputs": []
    },
    {
      "cell_type": "markdown",
      "source": [
        "LEFT JOIN (LEFT OUTER JOIN) — возвращает все строки из левой таблицы и совпадающие строки из правой. Если совпадений нет, возвращает NULL."
      ],
      "metadata": {
        "id": "3qCDXJ1CawG0"
      }
    },
    {
      "cell_type": "code",
      "source": [
        "SELECT employees.first_name, employees.last_name, departments.department_name\n",
        "FROM employees\n",
        "LEFT JOIN departments ON employees.department_id = departments.department_id; -- Все сотрудники, даже если у них нет отдела"
      ],
      "metadata": {
        "id": "VqCtLR3oawco"
      },
      "execution_count": null,
      "outputs": []
    },
    {
      "cell_type": "markdown",
      "source": [
        "RIGHT JOIN (RIGHT OUTER JOIN) — возвращает все строки из правой таблицы и совпадающие строки из левой. Если совпадений нет, возвращает NULL."
      ],
      "metadata": {
        "id": "YWKdZpJeaz1p"
      }
    },
    {
      "cell_type": "code",
      "source": [
        "SELECT employees.first_name, employees.last_name, departments.department_name\n",
        "FROM employees\n",
        "RIGHT JOIN departments ON employees.department_id = departments.department_id; -- Все отделы, даже если в них нет сотрудников"
      ],
      "metadata": {
        "id": "D0honiQla13E"
      },
      "execution_count": null,
      "outputs": []
    },
    {
      "cell_type": "markdown",
      "source": [
        "FULL JOIN (FULL OUTER JOIN) — возвращает все строки из обеих таблиц. Если совпадений нет, возвращает NULL.\n",
        "\n",
        "sql"
      ],
      "metadata": {
        "id": "HZLq48Zxa3Wp"
      }
    },
    {
      "cell_type": "code",
      "source": [
        "SELECT employees.first_name, employees.last_name, departments.department_name\n",
        "FROM employees\n",
        "FULL JOIN departments ON employees.department_id = departments.department_id; -- Все сотрудники и все отделы"
      ],
      "metadata": {
        "id": "iRvgrstda5Za"
      },
      "execution_count": null,
      "outputs": []
    },
    {
      "cell_type": "markdown",
      "source": [
        "CROSS JOIN — возвращает декартово произведение строк из обеих таблиц (все возможные комбинации)."
      ],
      "metadata": {
        "id": "lernSO_1a6z2"
      }
    },
    {
      "cell_type": "code",
      "source": [
        "SELECT employees.first_name, departments.department_name\n",
        "FROM employees\n",
        "CROSS JOIN departments; -- Все комбинации сотрудников и отделов"
      ],
      "metadata": {
        "id": "cxHkVZSHa9VQ"
      },
      "execution_count": null,
      "outputs": []
    },
    {
      "cell_type": "markdown",
      "source": [
        "SELF JOIN — соединение таблицы с самой собой."
      ],
      "metadata": {
        "id": "6fxiJn_qa-nm"
      }
    },
    {
      "cell_type": "code",
      "source": [
        "SELECT e1.first_name AS employee, e2.first_name AS manager\n",
        "FROM employees e1\n",
        "LEFT JOIN employees e2 ON e1.manager_id = e2.employee_id; -- Сотрудники и их менеджеры"
      ],
      "metadata": {
        "id": "xhGGeHMUbBGN"
      },
      "execution_count": null,
      "outputs": []
    },
    {
      "cell_type": "markdown",
      "source": [
        "Комбинирование агрегатных функций, вложенных запросов и соединений\n",
        "Пример: найти отделы, где средняя зарплата выше средней по компании."
      ],
      "metadata": {
        "id": "lTSnaNzKbChT"
      }
    },
    {
      "cell_type": "code",
      "source": [
        "SELECT d.department_name, AVG(e.salary) AS avg_salary\n",
        "FROM employees e\n",
        "INNER JOIN departments d ON e.department_id = d.department_id\n",
        "GROUP BY d.department_name\n",
        "HAVING AVG(e.salary) > (SELECT AVG(salary) FROM employees);"
      ],
      "metadata": {
        "id": "zroDD0zubEaJ"
      },
      "execution_count": null,
      "outputs": []
    },
    {
      "cell_type": "markdown",
      "source": [
        "Агрегатные функции используются для вычислений над группами строк.\n",
        "\n",
        "Вложенные запросы позволяют выполнять сложные запросы, используя результаты других запросов.\n",
        "\n",
        "Соединения позволяют объединять данные из нескольких таблиц на основе связей между ними."
      ],
      "metadata": {
        "id": "hQo7iNq3bGvN"
      }
    }
  ]
}