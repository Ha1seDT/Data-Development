{
  "cells": [
    {
      "cell_type": "markdown",
      "id": "15b4a5b7-a4e9-4765-b93c-9730f1c2dddd",
      "metadata": {
        "id": "15b4a5b7-a4e9-4765-b93c-9730f1c2dddd"
      },
      "source": [
        "1. Хранимые процедуры\n",
        "Хранимые процедуры — это набор команд SQL, которые сохраняются в базе данных и выполняются по вызову. Они полезны для выполнения сложных операций, таких как обновление данных или выполнение транзакций. Например, можно создать процедуру для обновления email пользователя, которая будет вызываться одной командой.\n",
        "\n",
        "2. Функции\n",
        "Функции похожи на процедуры, но они всегда возвращают значение. Их можно использовать в SQL-запросах. Например, функция может принимать ID пользователя и возвращать его email. Функции часто используются для вычислений или получения данных.\n",
        "\n",
        "3. Триггеры\n",
        "Триггеры — это автоматические действия, которые выполняются при изменении данных (например, при вставке, обновлении или удалении). Например, можно создать триггер, который будет записывать в отдельную таблицу информацию о каждом удалении пользователя.\n",
        "\n",
        "4. Курсоры\n",
        "Курсоры позволяют обрабатывать данные построчно. Они полезны, когда нужно работать с большими наборами данных, которые нельзя обработать сразу. Например, можно использовать курсор для поочередной обработки каждой записи в таблице пользователей.\n",
        "\n",
        "5. Управляющие инструменты SQL\n",
        "Это конструкции для управления логикой выполнения кода, такие как условия (IF), циклы (FOR, WHILE) и обработка ошибок (EXCEPTION). Например, с помощью IF можно проверить условие и выполнить разные действия в зависимости от резу:льтата.\n",
        "\n",
        "Итог\n",
        "Процедуры и функции помогают инкапсулировать логику.\n",
        "\n",
        "Триггеры автоматизируют задачи при изменении данных.\n",
        "\n",
        "Курсоры позволяют работать с данными построчно.\n",
        "\n",
        "Управляющие инструменты добавляют гибкость в обработку данных."
      ]
    },
    {
      "cell_type": "code",
      "execution_count": null,
      "id": "c3e82d32-354c-48ba-b1d2-0385fe72ee1b",
      "metadata": {
        "id": "c3e82d32-354c-48ba-b1d2-0385fe72ee1b"
      },
      "outputs": [],
      "source": [
        "CREATE OR REPLACE PROCEDURE add_passenger(name TEXT)\n",
        "LANGUAGE plpgsql\n",
        "AS $$\n",
        "BEGIN\n",
        "    INSERT INTO pasengers (first_name,last_name,passport) VALUES (F_name,L_name,passport_number);\n",
        "END;\n",
        "$$;\n",
        "\n",
        "EXEC add_passenger();"
      ]
    },
    {
      "cell_type": "markdown",
      "id": "d68d9281-9f0c-43b8-b0c7-5f26fb57be1d",
      "metadata": {
        "id": "d68d9281-9f0c-43b8-b0c7-5f26fb57be1d"
      },
      "source": [
        "Хранимые процедуры. Что делает: Добавляет пассажира в таблицу passengers."
      ]
    },
    {
      "cell_type": "code",
      "execution_count": null,
      "id": "dcd1ff46-6d79-48ee-ac46-a7944b6ed3e7",
      "metadata": {
        "id": "dcd1ff46-6d79-48ee-ac46-a7944b6ed3e7"
      },
      "outputs": [],
      "source": [
        "CREATE OR REPLACE FUNCTION get_passenger_count()\n",
        "RETURNS INT\n",
        "LANGUAGE plpgsql\n",
        "AS $$\n",
        "BEGIN\n",
        "    RETURN (SELECT COUNT(*) FROM passengers);\n",
        "END;\n",
        "$$;\n",
        "\n",
        "SELECT get_passenger_count();"
      ]
    },
    {
      "cell_type": "markdown",
      "id": "9b69db65-562f-47ad-9ca6-06ff6d19ba4c",
      "metadata": {
        "id": "9b69db65-562f-47ad-9ca6-06ff6d19ba4c"
      },
      "source": [
        "Функции. Что делает: Возвращает количество пассажиров в таблице passengers."
      ]
    },
    {
      "cell_type": "code",
      "execution_count": null,
      "id": "1defeac1-c19c-431b-8335-c8415bc36156",
      "metadata": {
        "id": "1defeac1-c19c-431b-8335-c8415bc36156"
      },
      "outputs": [],
      "source": [
        "CREATE OR REPLACE FUNCTION log_changes()\n",
        "RETURNS TRIGGER\n",
        "LANGUAGE plpgsql\n",
        "AS $$\n",
        "BEGIN\n",
        "    RAISE NOTICE 'Изменение в таблице passengers';\n",
        "    RETURN NEW;\n",
        "END;\n",
        "$$;\n",
        "\n",
        "CREATE TRIGGER passengers_trigger\n",
        "AFTER INSERT ON passengers\n",
        "FOR EACH ROW\n",
        "EXECUTE FUNCTION log_changes();"
      ]
    },
    {
      "cell_type": "markdown",
      "id": "56b2eec2-6483-4e49-8fe0-78aeb784c954",
      "metadata": {
        "id": "56b2eec2-6483-4e49-8fe0-78aeb784c954"
      },
      "source": [
        "Триггеры. Что делает: При вставке новой записи в таблицу passengers выводит уведомление."
      ]
    },
    {
      "cell_type": "code",
      "execution_count": null,
      "id": "cb868ee2-8ed5-4834-aa88-727732c24034",
      "metadata": {
        "id": "cb868ee2-8ed5-4834-aa88-727732c24034"
      },
      "outputs": [],
      "source": [
        "DO $$\n",
        "DECLARE\n",
        "    passenger_name TEXT;\n",
        "    passenger_cursor CURSOR FOR SELECT first_name FROM passengers;\n",
        "BEGIN\n",
        "    OPEN passenger_cursor;\n",
        "    FETCH passenger_cursor INTO passenger_name;\n",
        "    RAISE NOTICE 'Первый пассажир: %', passenger_name;\n",
        "    CLOSE passenger_cursor;\n",
        "END;\n",
        "$$;"
      ]
    },
    {
      "cell_type": "markdown",
      "id": "bbf69ebb-9d1b-4352-92eb-98f897e94f2c",
      "metadata": {
        "id": "bbf69ebb-9d1b-4352-92eb-98f897e94f2c"
      },
      "source": [
        "Курсоры. Что делает: Выводит имя первого пассажира из таблицы passengers."
      ]
    },
    {
      "cell_type": "code",
      "execution_count": null,
      "id": "456b79b6-4fb3-46c5-b7a0-762557562f69",
      "metadata": {
        "id": "456b79b6-4fb3-46c5-b7a0-762557562f69"
      },
      "outputs": [],
      "source": [
        "DO $$\n",
        "BEGIN\n",
        "    IF (SELECT COUNT(*) FROM passengers) > 0 THEN\n",
        "        RAISE NOTICE 'Есть пассажиры';\n",
        "    ELSE\n",
        "        RAISE NOTICE 'Пассажиров нет';\n",
        "    END IF;\n",
        "END;\n",
        "$$;"
      ]
    },
    {
      "cell_type": "markdown",
      "id": "19334251-01a9-41ce-b9d0-1016890fd268",
      "metadata": {
        "id": "19334251-01a9-41ce-b9d0-1016890fd268"
      },
      "source": [
        "Управляющие инструменты SQL\n",
        "Условие (IF). Что делает: Проверяет, есть ли пассажири в таблице, и выводит сообщение."
      ]
    },
    {
      "cell_type": "code",
      "source": [
        "DO $$\n",
        "DECLARE\n",
        "    i INT := 1;\n",
        "BEGIN\n",
        "    LOOP\n",
        "        RAISE NOTICE 'Итерация: %', i;\n",
        "        i := i + 1;\n",
        "\n",
        "        IF i > 5 THEN\n",
        "            EXIT;  -- Выход из цикла, если i > 5\n",
        "        END IF;\n",
        "    END LOOP;\n",
        "END $$;\n"
      ],
      "metadata": {
        "id": "7IVObUrJWwiv"
      },
      "id": "7IVObUrJWwiv",
      "execution_count": null,
      "outputs": []
    },
    {
      "cell_type": "markdown",
      "source": [
        "LOOP (Простой бесконечный цикл, прерывается EXIT)\n",
        "\n"
      ],
      "metadata": {
        "id": "45PXg8-RWy3p"
      },
      "id": "45PXg8-RWy3p"
    },
    {
      "cell_type": "code",
      "source": [
        "DO $$\n",
        "BEGIN\n",
        "    FOR i IN 1..3 LOOP\n",
        "        RAISE NOTICE 'Итерация: %', i;\n",
        "    END LOOP;\n",
        "END $$;\n"
      ],
      "metadata": {
        "id": "dC1u5QfPW9xK"
      },
      "id": "dC1u5QfPW9xK",
      "execution_count": null,
      "outputs": []
    },
    {
      "cell_type": "markdown",
      "source": [
        "FOR LOOP (Цикл с заранее известным числом итераций)"
      ],
      "metadata": {
        "id": "xYIXHcMhW-qE"
      },
      "id": "xYIXHcMhW-qE"
    },
    {
      "cell_type": "code",
      "source": [
        "DO $$\n",
        "DECLARE\n",
        "    counter INT := 1;\n",
        "BEGIN\n",
        "    WHILE counter <= 3 LOOP\n",
        "        RAISE NOTICE 'Итерация: %', counter;\n",
        "        counter := counter + 1;\n",
        "    END LOOP;\n",
        "END $$;\n"
      ],
      "metadata": {
        "id": "Q7uXikMWW16z"
      },
      "id": "Q7uXikMWW16z",
      "execution_count": null,
      "outputs": []
    },
    {
      "cell_type": "markdown",
      "source": [
        "WHILE LOOP (Пока условие истинно)"
      ],
      "metadata": {
        "id": "ieLRmTrXXF1x"
      },
      "id": "ieLRmTrXXF1x"
    },
    {
      "cell_type": "code",
      "source": [
        "DO $$\n",
        "DECLARE\n",
        "    x INT := 10;\n",
        "    y INT := 0;\n",
        "    result INT;\n",
        "BEGIN\n",
        "    BEGIN\n",
        "        result := x / y;\n",
        "    EXCEPTION\n",
        "        WHEN division_by_zero THEN\n",
        "            RAISE NOTICE 'Ошибка: деление на ноль!';\n",
        "    END;\n",
        "END $$;\n"
      ],
      "metadata": {
        "id": "2o6e39v1XLU2"
      },
      "id": "2o6e39v1XLU2",
      "execution_count": null,
      "outputs": []
    },
    {
      "cell_type": "markdown",
      "source": [
        "Обработка ошибок (EXCEPTION)\n",
        "Позволяет обработать ошибки и выполнить альтернативный код."
      ],
      "metadata": {
        "id": "Yxh0V96gXMIY"
      },
      "id": "Yxh0V96gXMIY"
    },
    {
      "cell_type": "code",
      "source": [
        "BEGIN\n",
        "    INSERT INTO aircrafts (aircraft_id, model, capacity) VALUES (1, 'Boeing 747', 200);\n",
        "EXCEPTION\n",
        "    WHEN unique_violation THEN\n",
        "        RAISE NOTICE 'Ошибка: Такой ID уже существует!';\n",
        "END;\n"
      ],
      "metadata": {
        "id": "4UGwBr2qXH6v"
      },
      "id": "4UGwBr2qXH6v",
      "execution_count": null,
      "outputs": []
    },
    {
      "cell_type": "markdown",
      "source": [
        "Обработка ошибки при вставке данных\n",
        "Если ID 1 уже существует в таблице aircrafts, будет выведено сообщение об ошибке."
      ],
      "metadata": {
        "id": "SqLM5XzkXUfB"
      },
      "id": "SqLM5XzkXUfB"
    }
  ],
  "metadata": {
    "kernelspec": {
      "display_name": "Python 3 (ipykernel)",
      "language": "python",
      "name": "python3"
    },
    "language_info": {
      "codemirror_mode": {
        "name": "ipython",
        "version": 3
      },
      "file_extension": ".py",
      "mimetype": "text/x-python",
      "name": "python",
      "nbconvert_exporter": "python",
      "pygments_lexer": "ipython3",
      "version": "3.11.7"
    },
    "colab": {
      "provenance": []
    }
  },
  "nbformat": 4,
  "nbformat_minor": 5
}