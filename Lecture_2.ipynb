{
  "nbformat": 4,
  "nbformat_minor": 0,
  "metadata": {
    "colab": {
      "provenance": [],
      "toc_visible": true
    },
    "kernelspec": {
      "name": "python3",
      "display_name": "Python 3"
    },
    "language_info": {
      "name": "python"
    }
  },
  "cells": [
    {
      "cell_type": "markdown",
      "source": [
        "# Новый раздел"
      ],
      "metadata": {
        "id": "JQwTPk3SRIR2"
      }
    },
    {
      "cell_type": "markdown",
      "source": [
        "1. Схема данных\n",
        "Схема данных — это структура базы данных, которая описывает, как данные организованы и связаны между собой. Она включает:\n",
        "\n",
        "Таблицы.\n",
        "\n",
        "Столбцы и их типы данных.\n",
        "\n",
        "Связи между таблицами (первичные и внешние ключи).\n",
        "\n",
        "Ограничения (например, уникальность, проверки).\n",
        "\n",
        "Схема данных определяет \"скелет\" базы данных, на основе которого строятся запросы и операции."
      ],
      "metadata": {
        "id": "TLjbWCvzRKza"
      }
    },
    {
      "cell_type": "markdown",
      "source": [
        "2. Первичный ключ (Primary Key)\n",
        "Первичный ключ — это столбец (или набор столбцов), который уникально идентифицирует каждую запись в таблице. Его особенности:\n",
        "\n",
        "Значение первичного ключа должно быть уникальным.\n",
        "\n",
        "Не может содержать NULL.\n",
        "\n",
        "Используется для создания связей между таблицами.\n",
        "\n",
        "Пример:"
      ],
      "metadata": {
        "id": "kpTBKLuaRPIn"
      }
    },
    {
      "cell_type": "code",
      "source": [
        "CREATE TABLE Students (\n",
        "    student_id INT PRIMARY KEY,\n",
        "    name VARCHAR(100),\n",
        "    age INT\n",
        ");"
      ],
      "metadata": {
        "id": "tOU_Ew4FRM7O"
      },
      "execution_count": null,
      "outputs": []
    },
    {
      "cell_type": "markdown",
      "source": [
        "Здесь student_id — первичный ключ.\n",
        "\n"
      ],
      "metadata": {
        "id": "UcAeWEosRTSt"
      }
    },
    {
      "cell_type": "markdown",
      "source": [
        "3. Внешний ключ (Foreign Key)\n",
        "Внешний ключ — это столбец (или набор столбцов), который ссылается на первичный ключ другой таблицы. Он используется для создания связей между таблицами и обеспечения целостности данных.\n",
        "\n",
        "Пример:"
      ],
      "metadata": {
        "id": "gu_w4nXqRV2v"
      }
    },
    {
      "cell_type": "code",
      "source": [
        "CREATE TABLE Enrollments (\n",
        "    enrollment_id INT PRIMARY KEY,\n",
        "    student_id INT,\n",
        "    course_id INT,\n",
        "    FOREIGN KEY (student_id) REFERENCES Students(student_id),\n",
        "    FOREIGN KEY (course_id) REFERENCES Courses(course_id)\n",
        ");"
      ],
      "metadata": {
        "id": "qfPsknPRRTxd"
      },
      "execution_count": null,
      "outputs": []
    },
    {
      "cell_type": "markdown",
      "source": [
        "Здесь student_id и course_id — внешние ключи, которые ссылаются на таблицы Students и Courses."
      ],
      "metadata": {
        "id": "QCb-3OgKRZVQ"
      }
    },
    {
      "cell_type": "markdown",
      "source": [
        "4. Оператор JOIN\n",
        "Оператор JOIN используется для объединения данных из двух или более таблиц на основе связанных столбцов. Основные типы JOIN:\n",
        "\n",
        "INNER JOIN: возвращает только те строки, которые имеют совпадения в обеих таблицах.\n",
        "\n",
        "LEFT JOIN: возвращает все строки из левой таблицы и совпадающие строки из правой таблицы. Если совпадений нет, возвращает NULL для правой таблицы.\n",
        "\n",
        "RIGHT JOIN: возвращает все строки из правой таблицы и совпадающие строки из левой таблицы. Если совпадений нет, возвращает NULL для левой таблицы.\n",
        "\n",
        "FULL JOIN: возвращает все строки из обеих таблиц. Если совпадений нет, возвращает NULL для недостающих данных.\n",
        "\n",
        "Пример INNER JOIN:"
      ],
      "metadata": {
        "id": "aH7UrSNGRbFE"
      }
    },
    {
      "cell_type": "code",
      "source": [
        "SELECT Students.name, Enrollments.course_id\n",
        "FROM Students\n",
        "INNER JOIN Enrollments ON Students.student_id = Enrollments.student_id;"
      ],
      "metadata": {
        "id": "-fwlEl_wRcwF"
      },
      "execution_count": null,
      "outputs": []
    },
    {
      "cell_type": "markdown",
      "source": [
        "5. Оператор GROUP BY\n",
        "Оператор GROUP BY используется для группировки строк по одному или нескольким столбцам. Обычно применяется с агрегатными функциями, такими как COUNT, SUM, AVG, MIN, MAX.\n",
        "\n",
        "Пример:"
      ],
      "metadata": {
        "id": "RZ7wREL3RiW-"
      }
    },
    {
      "cell_type": "code",
      "source": [
        "SELECT department, COUNT(*) AS employee_count\n",
        "FROM Employees\n",
        "GROUP BY department;"
      ],
      "metadata": {
        "id": "lnbosSHrRjv8"
      },
      "execution_count": null,
      "outputs": []
    },
    {
      "cell_type": "markdown",
      "source": [
        "Этот запрос подсчитывает количество сотрудников в каждом отделе.\n",
        "\n",
        "6. Оператор ORDER BY (Sort By)\n",
        "Оператор ORDER BY используется для сортировки результатов запроса по одному или нескольким столбцам. По умолчанию сортировка выполняется по возрастанию (ASC), но можно указать сортировку по убыванию (DESC).\n",
        "\n",
        "Пример:"
      ],
      "metadata": {
        "id": "NJrJ6zVURlra"
      }
    },
    {
      "cell_type": "code",
      "source": [
        "SELECT name, age\n",
        "FROM Students\n",
        "ORDER BY age DESC;"
      ],
      "metadata": {
        "id": "6-IfUf5GRnI2"
      },
      "execution_count": null,
      "outputs": []
    },
    {
      "cell_type": "markdown",
      "source": [
        "Этот запрос возвращает студентов, отсортированных по возрасту в порядке убывания.\n",
        "\n",
        "7. Оператор HAVING\n",
        "Оператор HAVING используется для фильтрации результатов группировки (после GROUP BY). В отличие от WHERE, который фильтрует строки до группировки, HAVING работает с агрегированными данными.\n",
        "\n",
        "Пример:"
      ],
      "metadata": {
        "id": "euY86-fDRpXh"
      }
    },
    {
      "cell_type": "code",
      "source": [
        "SELECT department, COUNT(*) AS employee_count\n",
        "FROM Employees\n",
        "GROUP BY department\n",
        "HAVING COUNT(*) > 5;"
      ],
      "metadata": {
        "id": "GunHsUQPRrAk"
      },
      "execution_count": null,
      "outputs": []
    },
    {
      "cell_type": "markdown",
      "source": [
        "Этот запрос возвращает только те отделы, где количество сотрудников больше 5.\n",
        "\n",
        "Пример комплексного запроса"
      ],
      "metadata": {
        "id": "34D2TbcRRvuI"
      }
    },
    {
      "cell_type": "code",
      "source": [
        "SELECT Students.name, COUNT(Enrollments.course_id) AS courses_enrolled\n",
        "FROM Students\n",
        "LEFT JOIN Enrollments ON Students.student_id = Enrollments.student_id\n",
        "GROUP BY Students.name\n",
        "HAVING COUNT(Enrollments.course_id) > 2\n",
        "ORDER BY courses_enrolled DESC;"
      ],
      "metadata": {
        "id": "KZWrtDiCRx3-"
      },
      "execution_count": null,
      "outputs": []
    },
    {
      "cell_type": "markdown",
      "source": [
        "Этот запрос:\n",
        "\n",
        "Объединяет таблицы Students и Enrollments с помощью LEFT JOIN.\n",
        "\n",
        "Группирует данные по именам студентов.\n",
        "\n",
        "Фильтрует результаты, оставляя только тех студентов, кто записан более чем на 2 курса (HAVING).\n",
        "\n",
        "Сортирует результаты по количеству курсов в порядке убывания (ORDER BY).\n",
        "\n",
        "Эти понятия и операторы являются основой для работы с реляционными базами данных и позволяют эффективно извлекать и анализировать данные."
      ],
      "metadata": {
        "id": "_WNDHsQ1Rypg"
      }
    }
  ]
}